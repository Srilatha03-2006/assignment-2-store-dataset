{
 "cells": [
  {
   "cell_type": "markdown",
   "id": "7189f79c-c4b6-4555-9bf7-0d4bfbe1a74d",
   "metadata": {},
   "source": [
    "# Part 1 — Basic Exploration (10 Marks)"
   ]
  },
  {
   "cell_type": "code",
   "execution_count": 2,
   "id": "8e5e7df6-7fda-455b-8225-7e39fa9d0447",
   "metadata": {},
   "outputs": [
    {
     "data": {
      "text/html": [
       "<div>\n",
       "<style scoped>\n",
       "    .dataframe tbody tr th:only-of-type {\n",
       "        vertical-align: middle;\n",
       "    }\n",
       "\n",
       "    .dataframe tbody tr th {\n",
       "        vertical-align: top;\n",
       "    }\n",
       "\n",
       "    .dataframe thead th {\n",
       "        text-align: right;\n",
       "    }\n",
       "</style>\n",
       "<table border=\"1\" class=\"dataframe\">\n",
       "  <thead>\n",
       "    <tr style=\"text-align: right;\">\n",
       "      <th></th>\n",
       "      <th>store_id</th>\n",
       "      <th>city</th>\n",
       "      <th>Jan</th>\n",
       "      <th>Feb</th>\n",
       "      <th>Mar</th>\n",
       "      <th>Apr</th>\n",
       "      <th>May</th>\n",
       "      <th>Jun</th>\n",
       "      <th>July</th>\n",
       "      <th>Aug</th>\n",
       "      <th>Sep</th>\n",
       "      <th>Oct</th>\n",
       "      <th>Nov</th>\n",
       "      <th>Dec</th>\n",
       "    </tr>\n",
       "  </thead>\n",
       "  <tbody>\n",
       "    <tr>\n",
       "      <th>0</th>\n",
       "      <td>S_1</td>\n",
       "      <td>Texas</td>\n",
       "      <td>8</td>\n",
       "      <td>20</td>\n",
       "      <td>13</td>\n",
       "      <td>21</td>\n",
       "      <td>17</td>\n",
       "      <td>20</td>\n",
       "      <td>24</td>\n",
       "      <td>17</td>\n",
       "      <td>16</td>\n",
       "      <td>9</td>\n",
       "      <td>7</td>\n",
       "      <td>6</td>\n",
       "    </tr>\n",
       "    <tr>\n",
       "      <th>1</th>\n",
       "      <td>S_2</td>\n",
       "      <td>California</td>\n",
       "      <td>12</td>\n",
       "      <td>19</td>\n",
       "      <td>15</td>\n",
       "      <td>15</td>\n",
       "      <td>11</td>\n",
       "      <td>19</td>\n",
       "      <td>7</td>\n",
       "      <td>15</td>\n",
       "      <td>10</td>\n",
       "      <td>11</td>\n",
       "      <td>21</td>\n",
       "      <td>19</td>\n",
       "    </tr>\n",
       "    <tr>\n",
       "      <th>2</th>\n",
       "      <td>S_3</td>\n",
       "      <td>California</td>\n",
       "      <td>16</td>\n",
       "      <td>16</td>\n",
       "      <td>14</td>\n",
       "      <td>19</td>\n",
       "      <td>23</td>\n",
       "      <td>6</td>\n",
       "      <td>13</td>\n",
       "      <td>13</td>\n",
       "      <td>15</td>\n",
       "      <td>14</td>\n",
       "      <td>24</td>\n",
       "      <td>8</td>\n",
       "    </tr>\n",
       "    <tr>\n",
       "      <th>3</th>\n",
       "      <td>S_4</td>\n",
       "      <td>Texas</td>\n",
       "      <td>8</td>\n",
       "      <td>18</td>\n",
       "      <td>13</td>\n",
       "      <td>10</td>\n",
       "      <td>14</td>\n",
       "      <td>14</td>\n",
       "      <td>6</td>\n",
       "      <td>8</td>\n",
       "      <td>8</td>\n",
       "      <td>18</td>\n",
       "      <td>7</td>\n",
       "      <td>11</td>\n",
       "    </tr>\n",
       "    <tr>\n",
       "      <th>4</th>\n",
       "      <td>S_5</td>\n",
       "      <td>Texas</td>\n",
       "      <td>19</td>\n",
       "      <td>5</td>\n",
       "      <td>24</td>\n",
       "      <td>9</td>\n",
       "      <td>5</td>\n",
       "      <td>24</td>\n",
       "      <td>10</td>\n",
       "      <td>5</td>\n",
       "      <td>24</td>\n",
       "      <td>15</td>\n",
       "      <td>6</td>\n",
       "      <td>13</td>\n",
       "    </tr>\n",
       "  </tbody>\n",
       "</table>\n",
       "</div>"
      ],
      "text/plain": [
       "  store_id        city  Jan  Feb  Mar  Apr  May  Jun  July  Aug  Sep  Oct  \\\n",
       "0      S_1       Texas    8   20   13   21   17   20    24   17   16    9   \n",
       "1      S_2  California   12   19   15   15   11   19     7   15   10   11   \n",
       "2      S_3  California   16   16   14   19   23    6    13   13   15   14   \n",
       "3      S_4       Texas    8   18   13   10   14   14     6    8    8   18   \n",
       "4      S_5       Texas   19    5   24    9    5   24    10    5   24   15   \n",
       "\n",
       "   Nov  Dec  \n",
       "0    7    6  \n",
       "1   21   19  \n",
       "2   24    8  \n",
       "3    7   11  \n",
       "4    6   13  "
      ]
     },
     "execution_count": 2,
     "metadata": {},
     "output_type": "execute_result"
    }
   ],
   "source": [
    " # Load the dataset into a Pandas DataFrame.\n",
    "import pandas as pd\n",
    "import numpy as np\n",
    "data=pd.read_csv(r\"C:\\Users\\HP\\Downloads\\store_sales (1).csv\")\n",
    "data.head()\n"
   ]
  },
  {
   "cell_type": "code",
   "execution_count": 15,
   "id": "f236c1c4-3c34-43db-a4d6-669f14eb35c0",
   "metadata": {},
   "outputs": [
    {
     "name": "stdout",
     "output_type": "stream",
     "text": [
      "First 5 rows:\n"
     ]
    },
    {
     "data": {
      "text/html": [
       "<div>\n",
       "<style scoped>\n",
       "    .dataframe tbody tr th:only-of-type {\n",
       "        vertical-align: middle;\n",
       "    }\n",
       "\n",
       "    .dataframe tbody tr th {\n",
       "        vertical-align: top;\n",
       "    }\n",
       "\n",
       "    .dataframe thead th {\n",
       "        text-align: right;\n",
       "    }\n",
       "</style>\n",
       "<table border=\"1\" class=\"dataframe\">\n",
       "  <thead>\n",
       "    <tr style=\"text-align: right;\">\n",
       "      <th></th>\n",
       "      <th>store_id</th>\n",
       "      <th>city</th>\n",
       "      <th>Jan</th>\n",
       "      <th>Feb</th>\n",
       "      <th>Mar</th>\n",
       "      <th>Apr</th>\n",
       "      <th>May</th>\n",
       "      <th>Jun</th>\n",
       "      <th>July</th>\n",
       "      <th>Aug</th>\n",
       "      <th>Sep</th>\n",
       "      <th>Oct</th>\n",
       "      <th>Nov</th>\n",
       "      <th>Dec</th>\n",
       "    </tr>\n",
       "  </thead>\n",
       "  <tbody>\n",
       "    <tr>\n",
       "      <th>0</th>\n",
       "      <td>S_1</td>\n",
       "      <td>Texas</td>\n",
       "      <td>8</td>\n",
       "      <td>20</td>\n",
       "      <td>13</td>\n",
       "      <td>21</td>\n",
       "      <td>17</td>\n",
       "      <td>20</td>\n",
       "      <td>24</td>\n",
       "      <td>17</td>\n",
       "      <td>16</td>\n",
       "      <td>9</td>\n",
       "      <td>7</td>\n",
       "      <td>6</td>\n",
       "    </tr>\n",
       "    <tr>\n",
       "      <th>1</th>\n",
       "      <td>S_2</td>\n",
       "      <td>California</td>\n",
       "      <td>12</td>\n",
       "      <td>19</td>\n",
       "      <td>15</td>\n",
       "      <td>15</td>\n",
       "      <td>11</td>\n",
       "      <td>19</td>\n",
       "      <td>7</td>\n",
       "      <td>15</td>\n",
       "      <td>10</td>\n",
       "      <td>11</td>\n",
       "      <td>21</td>\n",
       "      <td>19</td>\n",
       "    </tr>\n",
       "    <tr>\n",
       "      <th>2</th>\n",
       "      <td>S_3</td>\n",
       "      <td>California</td>\n",
       "      <td>16</td>\n",
       "      <td>16</td>\n",
       "      <td>14</td>\n",
       "      <td>19</td>\n",
       "      <td>23</td>\n",
       "      <td>6</td>\n",
       "      <td>13</td>\n",
       "      <td>13</td>\n",
       "      <td>15</td>\n",
       "      <td>14</td>\n",
       "      <td>24</td>\n",
       "      <td>8</td>\n",
       "    </tr>\n",
       "    <tr>\n",
       "      <th>3</th>\n",
       "      <td>S_4</td>\n",
       "      <td>Texas</td>\n",
       "      <td>8</td>\n",
       "      <td>18</td>\n",
       "      <td>13</td>\n",
       "      <td>10</td>\n",
       "      <td>14</td>\n",
       "      <td>14</td>\n",
       "      <td>6</td>\n",
       "      <td>8</td>\n",
       "      <td>8</td>\n",
       "      <td>18</td>\n",
       "      <td>7</td>\n",
       "      <td>11</td>\n",
       "    </tr>\n",
       "    <tr>\n",
       "      <th>4</th>\n",
       "      <td>S_5</td>\n",
       "      <td>Texas</td>\n",
       "      <td>19</td>\n",
       "      <td>5</td>\n",
       "      <td>24</td>\n",
       "      <td>9</td>\n",
       "      <td>5</td>\n",
       "      <td>24</td>\n",
       "      <td>10</td>\n",
       "      <td>5</td>\n",
       "      <td>24</td>\n",
       "      <td>15</td>\n",
       "      <td>6</td>\n",
       "      <td>13</td>\n",
       "    </tr>\n",
       "  </tbody>\n",
       "</table>\n",
       "</div>"
      ],
      "text/plain": [
       "  store_id        city  Jan  Feb  Mar  Apr  May  Jun  July  Aug  Sep  Oct  \\\n",
       "0      S_1       Texas    8   20   13   21   17   20    24   17   16    9   \n",
       "1      S_2  California   12   19   15   15   11   19     7   15   10   11   \n",
       "2      S_3  California   16   16   14   19   23    6    13   13   15   14   \n",
       "3      S_4       Texas    8   18   13   10   14   14     6    8    8   18   \n",
       "4      S_5       Texas   19    5   24    9    5   24    10    5   24   15   \n",
       "\n",
       "   Nov  Dec  \n",
       "0    7    6  \n",
       "1   21   19  \n",
       "2   24    8  \n",
       "3    7   11  \n",
       "4    6   13  "
      ]
     },
     "metadata": {},
     "output_type": "display_data"
    },
    {
     "name": "stdout",
     "output_type": "stream",
     "text": [
      "\n",
      "Last 5 rows:\n"
     ]
    },
    {
     "data": {
      "text/html": [
       "<div>\n",
       "<style scoped>\n",
       "    .dataframe tbody tr th:only-of-type {\n",
       "        vertical-align: middle;\n",
       "    }\n",
       "\n",
       "    .dataframe tbody tr th {\n",
       "        vertical-align: top;\n",
       "    }\n",
       "\n",
       "    .dataframe thead th {\n",
       "        text-align: right;\n",
       "    }\n",
       "</style>\n",
       "<table border=\"1\" class=\"dataframe\">\n",
       "  <thead>\n",
       "    <tr style=\"text-align: right;\">\n",
       "      <th></th>\n",
       "      <th>store_id</th>\n",
       "      <th>city</th>\n",
       "      <th>Jan</th>\n",
       "      <th>Feb</th>\n",
       "      <th>Mar</th>\n",
       "      <th>Apr</th>\n",
       "      <th>May</th>\n",
       "      <th>Jun</th>\n",
       "      <th>July</th>\n",
       "      <th>Aug</th>\n",
       "      <th>Sep</th>\n",
       "      <th>Oct</th>\n",
       "      <th>Nov</th>\n",
       "      <th>Dec</th>\n",
       "    </tr>\n",
       "  </thead>\n",
       "  <tbody>\n",
       "    <tr>\n",
       "      <th>95</th>\n",
       "      <td>S_96</td>\n",
       "      <td>Texas</td>\n",
       "      <td>7</td>\n",
       "      <td>10</td>\n",
       "      <td>20</td>\n",
       "      <td>20</td>\n",
       "      <td>10</td>\n",
       "      <td>15</td>\n",
       "      <td>15</td>\n",
       "      <td>21</td>\n",
       "      <td>15</td>\n",
       "      <td>7</td>\n",
       "      <td>23</td>\n",
       "      <td>22</td>\n",
       "    </tr>\n",
       "    <tr>\n",
       "      <th>96</th>\n",
       "      <td>S_97</td>\n",
       "      <td>California</td>\n",
       "      <td>13</td>\n",
       "      <td>6</td>\n",
       "      <td>7</td>\n",
       "      <td>15</td>\n",
       "      <td>22</td>\n",
       "      <td>10</td>\n",
       "      <td>21</td>\n",
       "      <td>23</td>\n",
       "      <td>10</td>\n",
       "      <td>6</td>\n",
       "      <td>12</td>\n",
       "      <td>9</td>\n",
       "    </tr>\n",
       "    <tr>\n",
       "      <th>97</th>\n",
       "      <td>S_98</td>\n",
       "      <td>Texas</td>\n",
       "      <td>16</td>\n",
       "      <td>9</td>\n",
       "      <td>6</td>\n",
       "      <td>14</td>\n",
       "      <td>20</td>\n",
       "      <td>13</td>\n",
       "      <td>11</td>\n",
       "      <td>10</td>\n",
       "      <td>8</td>\n",
       "      <td>22</td>\n",
       "      <td>17</td>\n",
       "      <td>22</td>\n",
       "    </tr>\n",
       "    <tr>\n",
       "      <th>98</th>\n",
       "      <td>S_99</td>\n",
       "      <td>Arizona</td>\n",
       "      <td>18</td>\n",
       "      <td>16</td>\n",
       "      <td>9</td>\n",
       "      <td>5</td>\n",
       "      <td>12</td>\n",
       "      <td>22</td>\n",
       "      <td>11</td>\n",
       "      <td>13</td>\n",
       "      <td>21</td>\n",
       "      <td>17</td>\n",
       "      <td>19</td>\n",
       "      <td>10</td>\n",
       "    </tr>\n",
       "    <tr>\n",
       "      <th>99</th>\n",
       "      <td>S_100</td>\n",
       "      <td>California</td>\n",
       "      <td>5</td>\n",
       "      <td>23</td>\n",
       "      <td>17</td>\n",
       "      <td>24</td>\n",
       "      <td>15</td>\n",
       "      <td>21</td>\n",
       "      <td>19</td>\n",
       "      <td>10</td>\n",
       "      <td>12</td>\n",
       "      <td>20</td>\n",
       "      <td>5</td>\n",
       "      <td>9</td>\n",
       "    </tr>\n",
       "  </tbody>\n",
       "</table>\n",
       "</div>"
      ],
      "text/plain": [
       "   store_id        city  Jan  Feb  Mar  Apr  May  Jun  July  Aug  Sep  Oct  \\\n",
       "95     S_96       Texas    7   10   20   20   10   15    15   21   15    7   \n",
       "96     S_97  California   13    6    7   15   22   10    21   23   10    6   \n",
       "97     S_98       Texas   16    9    6   14   20   13    11   10    8   22   \n",
       "98     S_99     Arizona   18   16    9    5   12   22    11   13   21   17   \n",
       "99    S_100  California    5   23   17   24   15   21    19   10   12   20   \n",
       "\n",
       "    Nov  Dec  \n",
       "95   23   22  \n",
       "96   12    9  \n",
       "97   17   22  \n",
       "98   19   10  \n",
       "99    5    9  "
      ]
     },
     "metadata": {},
     "output_type": "display_data"
    }
   ],
   "source": [
    "# Display first and last 5 rows\n",
    "print(\"First 5 rows:\")\n",
    "display(data.head())\n",
    "print(\"\\nLast 5 rows:\")\n",
    "display(data.tail())"
   ]
  },
  {
   "cell_type": "code",
   "execution_count": 18,
   "id": "5461a7b0-2395-4c7b-89f3-9b3b7a061232",
   "metadata": {},
   "outputs": [
    {
     "name": "stdout",
     "output_type": "stream",
     "text": [
      "<class 'pandas.core.frame.DataFrame'>\n",
      "RangeIndex: 100 entries, 0 to 99\n",
      "Data columns (total 14 columns):\n",
      " #   Column    Non-Null Count  Dtype \n",
      "---  ------    --------------  ----- \n",
      " 0   store_id  100 non-null    object\n",
      " 1   city      100 non-null    object\n",
      " 2   Jan       100 non-null    int64 \n",
      " 3   Feb       100 non-null    int64 \n",
      " 4   Mar       100 non-null    int64 \n",
      " 5   Apr       100 non-null    int64 \n",
      " 6   May       100 non-null    int64 \n",
      " 7   Jun       100 non-null    int64 \n",
      " 8   July      100 non-null    int64 \n",
      " 9   Aug       100 non-null    int64 \n",
      " 10  Sep       100 non-null    int64 \n",
      " 11  Oct       100 non-null    int64 \n",
      " 12  Nov       100 non-null    int64 \n",
      " 13  Dec       100 non-null    int64 \n",
      "dtypes: int64(12), object(2)\n",
      "memory usage: 11.1+ KB\n"
     ]
    }
   ],
   "source": [
    "# Check shape, data types, and non-null counts\n",
    "data.info()"
   ]
  },
  {
   "cell_type": "code",
   "execution_count": 20,
   "id": "e646084e-852b-4fd3-852d-0ff2580fb409",
   "metadata": {},
   "outputs": [
    {
     "data": {
      "text/plain": [
       "(100, 14)"
      ]
     },
     "execution_count": 20,
     "metadata": {},
     "output_type": "execute_result"
    }
   ],
   "source": [
    "# Shape of dataset\n",
    "data.shape"
   ]
  },
  {
   "cell_type": "code",
   "execution_count": 21,
   "id": "ea6d67bc-f9e2-4e8f-83a2-d91edd895973",
   "metadata": {},
   "outputs": [
    {
     "data": {
      "text/plain": [
       "Index(['store_id', 'city', 'Jan', 'Feb', 'Mar', 'Apr', 'May', 'Jun', 'July',\n",
       "       'Aug', 'Sep', 'Oct', 'Nov', 'Dec'],\n",
       "      dtype='object')"
      ]
     },
     "execution_count": 21,
     "metadata": {},
     "output_type": "execute_result"
    }
   ],
   "source": [
    "data.columns"
   ]
  },
  {
   "cell_type": "code",
   "execution_count": 34,
   "id": "6e58f60f-722e-4373-ac65-16d41434fdc2",
   "metadata": {},
   "outputs": [
    {
     "name": "stdout",
     "output_type": "stream",
     "text": [
      "\n",
      " Summary Statistics:\n"
     ]
    },
    {
     "data": {
      "text/html": [
       "<div>\n",
       "<style scoped>\n",
       "    .dataframe tbody tr th:only-of-type {\n",
       "        vertical-align: middle;\n",
       "    }\n",
       "\n",
       "    .dataframe tbody tr th {\n",
       "        vertical-align: top;\n",
       "    }\n",
       "\n",
       "    .dataframe thead th {\n",
       "        text-align: right;\n",
       "    }\n",
       "</style>\n",
       "<table border=\"1\" class=\"dataframe\">\n",
       "  <thead>\n",
       "    <tr style=\"text-align: right;\">\n",
       "      <th></th>\n",
       "      <th>Jan</th>\n",
       "      <th>Feb</th>\n",
       "      <th>Mar</th>\n",
       "      <th>Apr</th>\n",
       "      <th>May</th>\n",
       "      <th>Jun</th>\n",
       "      <th>July</th>\n",
       "      <th>Aug</th>\n",
       "      <th>Sep</th>\n",
       "      <th>Oct</th>\n",
       "      <th>Nov</th>\n",
       "      <th>Dec</th>\n",
       "    </tr>\n",
       "  </thead>\n",
       "  <tbody>\n",
       "    <tr>\n",
       "      <th>count</th>\n",
       "      <td>100.000000</td>\n",
       "      <td>100.000000</td>\n",
       "      <td>100.000000</td>\n",
       "      <td>100.000000</td>\n",
       "      <td>100.000000</td>\n",
       "      <td>100.000000</td>\n",
       "      <td>100.000000</td>\n",
       "      <td>100.000000</td>\n",
       "      <td>100.000000</td>\n",
       "      <td>100.00000</td>\n",
       "      <td>100.000000</td>\n",
       "      <td>100.000000</td>\n",
       "    </tr>\n",
       "    <tr>\n",
       "      <th>mean</th>\n",
       "      <td>14.460000</td>\n",
       "      <td>15.090000</td>\n",
       "      <td>14.560000</td>\n",
       "      <td>14.570000</td>\n",
       "      <td>13.560000</td>\n",
       "      <td>13.800000</td>\n",
       "      <td>14.380000</td>\n",
       "      <td>15.810000</td>\n",
       "      <td>14.910000</td>\n",
       "      <td>14.10000</td>\n",
       "      <td>15.310000</td>\n",
       "      <td>13.570000</td>\n",
       "    </tr>\n",
       "    <tr>\n",
       "      <th>std</th>\n",
       "      <td>5.712683</td>\n",
       "      <td>6.055459</td>\n",
       "      <td>5.782803</td>\n",
       "      <td>4.965039</td>\n",
       "      <td>5.883241</td>\n",
       "      <td>5.962848</td>\n",
       "      <td>5.566458</td>\n",
       "      <td>6.152432</td>\n",
       "      <td>5.284043</td>\n",
       "      <td>5.87496</td>\n",
       "      <td>6.461533</td>\n",
       "      <td>5.852143</td>\n",
       "    </tr>\n",
       "    <tr>\n",
       "      <th>min</th>\n",
       "      <td>5.000000</td>\n",
       "      <td>5.000000</td>\n",
       "      <td>5.000000</td>\n",
       "      <td>5.000000</td>\n",
       "      <td>5.000000</td>\n",
       "      <td>5.000000</td>\n",
       "      <td>5.000000</td>\n",
       "      <td>5.000000</td>\n",
       "      <td>5.000000</td>\n",
       "      <td>5.00000</td>\n",
       "      <td>5.000000</td>\n",
       "      <td>5.000000</td>\n",
       "    </tr>\n",
       "    <tr>\n",
       "      <th>25%</th>\n",
       "      <td>10.000000</td>\n",
       "      <td>9.000000</td>\n",
       "      <td>9.750000</td>\n",
       "      <td>11.000000</td>\n",
       "      <td>8.000000</td>\n",
       "      <td>9.000000</td>\n",
       "      <td>10.000000</td>\n",
       "      <td>11.000000</td>\n",
       "      <td>11.000000</td>\n",
       "      <td>9.00000</td>\n",
       "      <td>10.000000</td>\n",
       "      <td>8.000000</td>\n",
       "    </tr>\n",
       "    <tr>\n",
       "      <th>50%</th>\n",
       "      <td>15.000000</td>\n",
       "      <td>16.000000</td>\n",
       "      <td>15.000000</td>\n",
       "      <td>14.500000</td>\n",
       "      <td>13.000000</td>\n",
       "      <td>13.500000</td>\n",
       "      <td>15.000000</td>\n",
       "      <td>17.000000</td>\n",
       "      <td>14.500000</td>\n",
       "      <td>14.00000</td>\n",
       "      <td>16.000000</td>\n",
       "      <td>13.000000</td>\n",
       "    </tr>\n",
       "    <tr>\n",
       "      <th>75%</th>\n",
       "      <td>19.000000</td>\n",
       "      <td>21.000000</td>\n",
       "      <td>19.250000</td>\n",
       "      <td>19.000000</td>\n",
       "      <td>19.000000</td>\n",
       "      <td>19.000000</td>\n",
       "      <td>19.000000</td>\n",
       "      <td>21.000000</td>\n",
       "      <td>19.000000</td>\n",
       "      <td>19.00000</td>\n",
       "      <td>21.250000</td>\n",
       "      <td>19.000000</td>\n",
       "    </tr>\n",
       "    <tr>\n",
       "      <th>max</th>\n",
       "      <td>24.000000</td>\n",
       "      <td>24.000000</td>\n",
       "      <td>24.000000</td>\n",
       "      <td>24.000000</td>\n",
       "      <td>24.000000</td>\n",
       "      <td>24.000000</td>\n",
       "      <td>24.000000</td>\n",
       "      <td>24.000000</td>\n",
       "      <td>24.000000</td>\n",
       "      <td>24.00000</td>\n",
       "      <td>24.000000</td>\n",
       "      <td>24.000000</td>\n",
       "    </tr>\n",
       "  </tbody>\n",
       "</table>\n",
       "</div>"
      ],
      "text/plain": [
       "              Jan         Feb         Mar         Apr         May         Jun  \\\n",
       "count  100.000000  100.000000  100.000000  100.000000  100.000000  100.000000   \n",
       "mean    14.460000   15.090000   14.560000   14.570000   13.560000   13.800000   \n",
       "std      5.712683    6.055459    5.782803    4.965039    5.883241    5.962848   \n",
       "min      5.000000    5.000000    5.000000    5.000000    5.000000    5.000000   \n",
       "25%     10.000000    9.000000    9.750000   11.000000    8.000000    9.000000   \n",
       "50%     15.000000   16.000000   15.000000   14.500000   13.000000   13.500000   \n",
       "75%     19.000000   21.000000   19.250000   19.000000   19.000000   19.000000   \n",
       "max     24.000000   24.000000   24.000000   24.000000   24.000000   24.000000   \n",
       "\n",
       "             July         Aug         Sep        Oct         Nov         Dec  \n",
       "count  100.000000  100.000000  100.000000  100.00000  100.000000  100.000000  \n",
       "mean    14.380000   15.810000   14.910000   14.10000   15.310000   13.570000  \n",
       "std      5.566458    6.152432    5.284043    5.87496    6.461533    5.852143  \n",
       "min      5.000000    5.000000    5.000000    5.00000    5.000000    5.000000  \n",
       "25%     10.000000   11.000000   11.000000    9.00000   10.000000    8.000000  \n",
       "50%     15.000000   17.000000   14.500000   14.00000   16.000000   13.000000  \n",
       "75%     19.000000   21.000000   19.000000   19.00000   21.250000   19.000000  \n",
       "max     24.000000   24.000000   24.000000   24.00000   24.000000   24.000000  "
      ]
     },
     "metadata": {},
     "output_type": "display_data"
    }
   ],
   "source": [
    "# Summary statistics for numeric columns\n",
    "print(\"\\n Summary Statistics:\")\n",
    "display(data.describe())"
   ]
  },
  {
   "cell_type": "code",
   "execution_count": 36,
   "id": "d0e90bcf-046c-40c4-9cec-977f04b81064",
   "metadata": {},
   "outputs": [
    {
     "name": "stdout",
     "output_type": "stream",
     "text": [
      "\n",
      " Total Sales (Jan–Apr):\n",
      " Jan    1446\n",
      "Feb    1509\n",
      "Mar    1456\n",
      "Apr    1457\n",
      "dtype: int64\n",
      "\n",
      " Average Sales (Jan–Apr):\n",
      " Jan    14.46\n",
      "Feb    15.09\n",
      "Mar    14.56\n",
      "Apr    14.57\n",
      "dtype: float64\n"
     ]
    }
   ],
   "source": [
    "# Total and average sales for Jan–Apr\n",
    "monthly_total = data[['Jan','Feb','Mar','Apr']].sum()\n",
    "monthly_avg   = data[['Jan','Feb','Mar','Apr']].mean()\n",
    "print(\"\\n Total Sales (Jan–Apr):\\n\", monthly_total)\n",
    "print(\"\\n Average Sales (Jan–Apr):\\n\", monthly_avg)\n"
   ]
  },
  {
   "cell_type": "code",
   "execution_count": 37,
   "id": "8dd2df10-f1bc-43ea-924e-20e807f4717b",
   "metadata": {},
   "outputs": [
    {
     "name": "stdout",
     "output_type": "stream",
     "text": [
      "\n",
      " Total Yearly Sales (All Stores): 17412\n"
     ]
    }
   ],
   "source": [
    "#Total yearly sales for all stores combined\n",
    "months = ['Jan','Feb','Mar','Apr','May','Jun','July','Aug','Sep','Oct','Nov','Dec']\n",
    "total_yearly_sales = data[months].sum().sum()\n",
    "print(\"\\n Total Yearly Sales (All Stores):\", total_yearly_sales)"
   ]
  },
  {
   "cell_type": "markdown",
   "id": "8dd6118c-3de4-4ec8-89c6-483d754975d9",
   "metadata": {},
   "source": [
    "# PART 2 — CITY-WISE ANALYSIS (15 Marks)"
   ]
  },
  {
   "cell_type": "code",
   "execution_count": 39,
   "id": "96e249ea-0c93-4992-9493-8347e13f504c",
   "metadata": {},
   "outputs": [
    {
     "name": "stdout",
     "output_type": "stream",
     "text": [
      "\n",
      " Total Sales per City (Jan–Apr):\n",
      "             Jan  Feb  Mar  Apr\n",
      "city                          \n",
      "Arizona     341  336  320  329\n",
      "California  634  668  629  601\n",
      "Texas       471  505  507  527\n"
     ]
    }
   ],
   "source": [
    "# Total sales per city (Jan–Apr)\n",
    "city_month_sales = data.groupby(\"city\")[['Jan','Feb','Mar','Apr']].sum()\n",
    "print(\"\\n Total Sales per City (Jan–Apr):\\n\", city_month_sales)"
   ]
  },
  {
   "cell_type": "code",
   "execution_count": 40,
   "id": "d051d290-9a10-4bd1-8caa-6f53ed598c5d",
   "metadata": {},
   "outputs": [
    {
     "name": "stdout",
     "output_type": "stream",
     "text": [
      "\n",
      " Average Monthly Sales per City:\n",
      " city\n",
      "Arizona       331.5\n",
      "California    633.0\n",
      "Texas         502.5\n",
      "dtype: float64\n"
     ]
    }
   ],
   "source": [
    "# Average monthly sales per city\n",
    "city_avg_sales = city_month_sales.mean(axis=1)\n",
    "print(\"\\n Average Monthly Sales per City:\\n\", city_avg_sales)"
   ]
  },
  {
   "cell_type": "code",
   "execution_count": 42,
   "id": "80045235-bb41-49ed-a44b-4d92bfae0bd7",
   "metadata": {},
   "outputs": [
    {
     "name": "stdout",
     "output_type": "stream",
     "text": [
      " Highest Average Sales City: California\n",
      " Lowest Total Sales City: Arizona\n"
     ]
    }
   ],
   "source": [
    "# Highest & lowest cities\n",
    "highest_avg_city = city_avg_sales.idxmax()\n",
    "lowest_total_city = city_month_sales.sum(axis=1).idxmin()\n",
    "print(\" Highest Average Sales City:\", highest_avg_city)\n",
    "print(\" Lowest Total Sales City:\", lowest_total_city)\n"
   ]
  },
  {
   "cell_type": "code",
   "execution_count": 5,
   "id": "917b06ac-1914-4cd6-906a-74eacda9510e",
   "metadata": {},
   "outputs": [
    {
     "name": "stdout",
     "output_type": "stream",
     "text": [
      "Total_Sales column created successfully!\n"
     ]
    },
    {
     "data": {
      "text/html": [
       "<div>\n",
       "<style scoped>\n",
       "    .dataframe tbody tr th:only-of-type {\n",
       "        vertical-align: middle;\n",
       "    }\n",
       "\n",
       "    .dataframe tbody tr th {\n",
       "        vertical-align: top;\n",
       "    }\n",
       "\n",
       "    .dataframe thead th {\n",
       "        text-align: right;\n",
       "    }\n",
       "</style>\n",
       "<table border=\"1\" class=\"dataframe\">\n",
       "  <thead>\n",
       "    <tr style=\"text-align: right;\">\n",
       "      <th></th>\n",
       "      <th>store_id</th>\n",
       "      <th>city</th>\n",
       "      <th>Jan</th>\n",
       "      <th>Feb</th>\n",
       "      <th>Mar</th>\n",
       "      <th>Apr</th>\n",
       "      <th>May</th>\n",
       "      <th>Jun</th>\n",
       "      <th>July</th>\n",
       "      <th>Aug</th>\n",
       "      <th>Sep</th>\n",
       "      <th>Oct</th>\n",
       "      <th>Nov</th>\n",
       "      <th>Dec</th>\n",
       "      <th>Total_Sales</th>\n",
       "    </tr>\n",
       "  </thead>\n",
       "  <tbody>\n",
       "    <tr>\n",
       "      <th>0</th>\n",
       "      <td>S_1</td>\n",
       "      <td>Texas</td>\n",
       "      <td>8</td>\n",
       "      <td>20</td>\n",
       "      <td>13</td>\n",
       "      <td>21</td>\n",
       "      <td>17</td>\n",
       "      <td>20</td>\n",
       "      <td>24</td>\n",
       "      <td>17</td>\n",
       "      <td>16</td>\n",
       "      <td>9</td>\n",
       "      <td>7</td>\n",
       "      <td>6</td>\n",
       "      <td>62</td>\n",
       "    </tr>\n",
       "    <tr>\n",
       "      <th>1</th>\n",
       "      <td>S_2</td>\n",
       "      <td>California</td>\n",
       "      <td>12</td>\n",
       "      <td>19</td>\n",
       "      <td>15</td>\n",
       "      <td>15</td>\n",
       "      <td>11</td>\n",
       "      <td>19</td>\n",
       "      <td>7</td>\n",
       "      <td>15</td>\n",
       "      <td>10</td>\n",
       "      <td>11</td>\n",
       "      <td>21</td>\n",
       "      <td>19</td>\n",
       "      <td>61</td>\n",
       "    </tr>\n",
       "    <tr>\n",
       "      <th>2</th>\n",
       "      <td>S_3</td>\n",
       "      <td>California</td>\n",
       "      <td>16</td>\n",
       "      <td>16</td>\n",
       "      <td>14</td>\n",
       "      <td>19</td>\n",
       "      <td>23</td>\n",
       "      <td>6</td>\n",
       "      <td>13</td>\n",
       "      <td>13</td>\n",
       "      <td>15</td>\n",
       "      <td>14</td>\n",
       "      <td>24</td>\n",
       "      <td>8</td>\n",
       "      <td>65</td>\n",
       "    </tr>\n",
       "    <tr>\n",
       "      <th>3</th>\n",
       "      <td>S_4</td>\n",
       "      <td>Texas</td>\n",
       "      <td>8</td>\n",
       "      <td>18</td>\n",
       "      <td>13</td>\n",
       "      <td>10</td>\n",
       "      <td>14</td>\n",
       "      <td>14</td>\n",
       "      <td>6</td>\n",
       "      <td>8</td>\n",
       "      <td>8</td>\n",
       "      <td>18</td>\n",
       "      <td>7</td>\n",
       "      <td>11</td>\n",
       "      <td>49</td>\n",
       "    </tr>\n",
       "    <tr>\n",
       "      <th>4</th>\n",
       "      <td>S_5</td>\n",
       "      <td>Texas</td>\n",
       "      <td>19</td>\n",
       "      <td>5</td>\n",
       "      <td>24</td>\n",
       "      <td>9</td>\n",
       "      <td>5</td>\n",
       "      <td>24</td>\n",
       "      <td>10</td>\n",
       "      <td>5</td>\n",
       "      <td>24</td>\n",
       "      <td>15</td>\n",
       "      <td>6</td>\n",
       "      <td>13</td>\n",
       "      <td>57</td>\n",
       "    </tr>\n",
       "  </tbody>\n",
       "</table>\n",
       "</div>"
      ],
      "text/plain": [
       "  store_id        city  Jan  Feb  Mar  Apr  May  Jun  July  Aug  Sep  Oct  \\\n",
       "0      S_1       Texas    8   20   13   21   17   20    24   17   16    9   \n",
       "1      S_2  California   12   19   15   15   11   19     7   15   10   11   \n",
       "2      S_3  California   16   16   14   19   23    6    13   13   15   14   \n",
       "3      S_4       Texas    8   18   13   10   14   14     6    8    8   18   \n",
       "4      S_5       Texas   19    5   24    9    5   24    10    5   24   15   \n",
       "\n",
       "   Nov  Dec  Total_Sales  \n",
       "0    7    6           62  \n",
       "1   21   19           61  \n",
       "2   24    8           65  \n",
       "3    7   11           49  \n",
       "4    6   13           57  "
      ]
     },
     "metadata": {},
     "output_type": "display_data"
    }
   ],
   "source": [
    "# Add Total_Sales column\n",
    "data[\"Total_Sales\"] = data[['Jan','Feb','Mar','Apr']].sum(axis=1)\n",
    "print(\"Total_Sales column created successfully!\")\n",
    "display(data.head())\n"
   ]
  },
  {
   "cell_type": "code",
   "execution_count": 23,
   "id": "11f8ba5e-382a-46be-ab93-fbb19f8eba50",
   "metadata": {},
   "outputs": [
    {
     "name": "stdout",
     "output_type": "stream",
     "text": [
      "\n",
      " Top 3 Cities by Total Sales:\n",
      " city\n",
      "California    2532\n",
      "Texas         2010\n",
      "Arizona       1326\n",
      "Name: Total_Sales, dtype: int64\n"
     ]
    }
   ],
   "source": [
    "# Top 3 cities by Total_Sales\n",
    "top3_cities = data.groupby(\"city\")[\"Total_Sales\"].sum().sort_values(ascending=False).head(3)\n",
    "print(\"\\n Top 3 Cities by Total Sales:\\n\", top3_cities)"
   ]
  },
  {
   "cell_type": "markdown",
   "id": "62b840ff-dbf3-424c-a675-f856eb0ea07a",
   "metadata": {},
   "source": [
    "# PART 3 — STORE-LEVEL INSIGHTS (15 Marks"
   ]
  },
  {
   "cell_type": "code",
   "execution_count": 46,
   "id": "2e7bde02-9a12-4725-9d71-b8a904df7d8e",
   "metadata": {},
   "outputs": [
    {
     "name": "stdout",
     "output_type": "stream",
     "text": [
      "\n",
      "🏪 Top 5 Stores with Highest Total Sales:\n"
     ]
    },
    {
     "data": {
      "text/html": [
       "<div>\n",
       "<style scoped>\n",
       "    .dataframe tbody tr th:only-of-type {\n",
       "        vertical-align: middle;\n",
       "    }\n",
       "\n",
       "    .dataframe tbody tr th {\n",
       "        vertical-align: top;\n",
       "    }\n",
       "\n",
       "    .dataframe thead th {\n",
       "        text-align: right;\n",
       "    }\n",
       "</style>\n",
       "<table border=\"1\" class=\"dataframe\">\n",
       "  <thead>\n",
       "    <tr style=\"text-align: right;\">\n",
       "      <th></th>\n",
       "      <th>store_id</th>\n",
       "      <th>city</th>\n",
       "      <th>Total_Sales</th>\n",
       "    </tr>\n",
       "  </thead>\n",
       "  <tbody>\n",
       "    <tr>\n",
       "      <th>72</th>\n",
       "      <td>S_73</td>\n",
       "      <td>California</td>\n",
       "      <td>86</td>\n",
       "    </tr>\n",
       "    <tr>\n",
       "      <th>77</th>\n",
       "      <td>S_78</td>\n",
       "      <td>Arizona</td>\n",
       "      <td>85</td>\n",
       "    </tr>\n",
       "    <tr>\n",
       "      <th>69</th>\n",
       "      <td>S_70</td>\n",
       "      <td>Texas</td>\n",
       "      <td>84</td>\n",
       "    </tr>\n",
       "    <tr>\n",
       "      <th>26</th>\n",
       "      <td>S_27</td>\n",
       "      <td>California</td>\n",
       "      <td>80</td>\n",
       "    </tr>\n",
       "    <tr>\n",
       "      <th>85</th>\n",
       "      <td>S_86</td>\n",
       "      <td>California</td>\n",
       "      <td>80</td>\n",
       "    </tr>\n",
       "  </tbody>\n",
       "</table>\n",
       "</div>"
      ],
      "text/plain": [
       "   store_id        city  Total_Sales\n",
       "72     S_73  California           86\n",
       "77     S_78     Arizona           85\n",
       "69     S_70       Texas           84\n",
       "26     S_27  California           80\n",
       "85     S_86  California           80"
      ]
     },
     "metadata": {},
     "output_type": "display_data"
    }
   ],
   "source": [
    "# Top 5 stores\n",
    "print(\"\\n Top 5 Stores with Highest Total Sales:\")\n",
    "display(data.nlargest(5,\"Total_Sales\")[[\"store_id\",\"city\",\"Total_Sales\"]])\n"
   ]
  },
  {
   "cell_type": "code",
   "execution_count": 47,
   "id": "3f0fa950-8365-485b-9fb3-b4635acca03f",
   "metadata": {},
   "outputs": [
    {
     "name": "stdout",
     "output_type": "stream",
     "text": [
      "\n",
      " Bottom 5 Stores with Lowest Total Sales:\n"
     ]
    },
    {
     "data": {
      "text/html": [
       "<div>\n",
       "<style scoped>\n",
       "    .dataframe tbody tr th:only-of-type {\n",
       "        vertical-align: middle;\n",
       "    }\n",
       "\n",
       "    .dataframe tbody tr th {\n",
       "        vertical-align: top;\n",
       "    }\n",
       "\n",
       "    .dataframe thead th {\n",
       "        text-align: right;\n",
       "    }\n",
       "</style>\n",
       "<table border=\"1\" class=\"dataframe\">\n",
       "  <thead>\n",
       "    <tr style=\"text-align: right;\">\n",
       "      <th></th>\n",
       "      <th>store_id</th>\n",
       "      <th>city</th>\n",
       "      <th>Total_Sales</th>\n",
       "    </tr>\n",
       "  </thead>\n",
       "  <tbody>\n",
       "    <tr>\n",
       "      <th>90</th>\n",
       "      <td>S_91</td>\n",
       "      <td>Texas</td>\n",
       "      <td>33</td>\n",
       "    </tr>\n",
       "    <tr>\n",
       "      <th>18</th>\n",
       "      <td>S_19</td>\n",
       "      <td>California</td>\n",
       "      <td>38</td>\n",
       "    </tr>\n",
       "    <tr>\n",
       "      <th>21</th>\n",
       "      <td>S_22</td>\n",
       "      <td>Texas</td>\n",
       "      <td>39</td>\n",
       "    </tr>\n",
       "    <tr>\n",
       "      <th>82</th>\n",
       "      <td>S_83</td>\n",
       "      <td>California</td>\n",
       "      <td>39</td>\n",
       "    </tr>\n",
       "    <tr>\n",
       "      <th>96</th>\n",
       "      <td>S_97</td>\n",
       "      <td>California</td>\n",
       "      <td>41</td>\n",
       "    </tr>\n",
       "  </tbody>\n",
       "</table>\n",
       "</div>"
      ],
      "text/plain": [
       "   store_id        city  Total_Sales\n",
       "90     S_91       Texas           33\n",
       "18     S_19  California           38\n",
       "21     S_22       Texas           39\n",
       "82     S_83  California           39\n",
       "96     S_97  California           41"
      ]
     },
     "metadata": {},
     "output_type": "display_data"
    }
   ],
   "source": [
    "# Bottom 5 stores\n",
    "print(\"\\n Bottom 5 Stores with Lowest Total Sales:\")\n",
    "display(data.nsmallest(5,\"Total_Sales\")[[\"store_id\",\"city\",\"Total_Sales\"]])"
   ]
  },
  {
   "cell_type": "code",
   "execution_count": 48,
   "id": "f9afe0f2-535c-41c4-adcb-469b23a61671",
   "metadata": {},
   "outputs": [
    {
     "name": "stdout",
     "output_type": "stream",
     "text": [
      "\n",
      " Store with Max March Sales:\n",
      " store_id         S_5\n",
      "city           Texas\n",
      "Jan               19\n",
      "Feb                5\n",
      "Mar               24\n",
      "Apr                9\n",
      "May                5\n",
      "Jun               24\n",
      "July              10\n",
      "Aug                5\n",
      "Sep               24\n",
      "Oct               15\n",
      "Nov                6\n",
      "Dec               13\n",
      "Total_Sales       57\n",
      "Name: 4, dtype: object\n"
     ]
    }
   ],
   "source": [
    "# Store with max March sales\n",
    "max_march = data.loc[data[\"Mar\"].idxmax()]\n",
    "print(\"\\n Store with Max March Sales:\\n\", max_march)\n"
   ]
  },
  {
   "cell_type": "code",
   "execution_count": 49,
   "id": "e678b684-ee24-4c64-b01c-2c0bc3cb1a42",
   "metadata": {},
   "outputs": [
    {
     "name": "stdout",
     "output_type": "stream",
     "text": [
      "\n",
      " Store with Min April Sales:\n",
      " store_id          S_32\n",
      "city           Arizona\n",
      "Jan                 23\n",
      "Feb                 16\n",
      "Mar                 16\n",
      "Apr                  5\n",
      "May                 19\n",
      "Jun                 16\n",
      "July                14\n",
      "Aug                 22\n",
      "Sep                 10\n",
      "Oct                 10\n",
      "Nov                 23\n",
      "Dec                 16\n",
      "Total_Sales         60\n",
      "Name: 31, dtype: object\n"
     ]
    }
   ],
   "source": [
    "# Store with min April sales\n",
    "min_april = data.loc[data[\"Apr\"].idxmin()]\n",
    "print(\"\\n Store with Min April Sales:\\n\", min_april)"
   ]
  },
  {
   "cell_type": "code",
   "execution_count": 51,
   "id": "f6eacaa5-d4ed-460d-8cc8-02334fc76554",
   "metadata": {},
   "outputs": [
    {
     "name": "stdout",
     "output_type": "stream",
     "text": [
      "\n",
      " Stores per City with Avg Sales > 15:\n",
      " city\n",
      "Arizona        9\n",
      "California    18\n",
      "Texas         17\n",
      "Name: store_id, dtype: int64\n"
     ]
    }
   ],
   "source": [
    "# Stores per city with avg > 15\n",
    "data[\"Avg_Monthly_Sales\"] = data[['Jan','Feb','Mar','Apr']].mean(axis=1)\n",
    "high_avg_stores = data[data[\"Avg_Monthly_Sales\"]>15].groupby(\"city\")[\"store_id\"].count()\n",
    "print(\"\\n Stores per City with Avg Sales > 15:\\n\", high_avg_stores)"
   ]
  },
  {
   "cell_type": "code",
   "execution_count": 50,
   "id": "a832825b-2a18-49e9-acb4-5f35e08e0037",
   "metadata": {},
   "outputs": [
    {
     "name": "stdout",
     "output_type": "stream",
     "text": [
      "\n",
      " California Stores with > 20 Sales in any Month:\n",
      "    store_id        city  Jan  Feb  Mar  Apr  May  Jun  July  Aug  Sep  Oct  \\\n",
      "5       S_6  California   14   21   18   20   21    5    18   24    7   12   \n",
      "9      S_10  California   14   23   20   11   12   13    19    6    5   22   \n",
      "11     S_12  California    6   18   21    8    5    8    11    9   21   17   \n",
      "16     S_17  California   13    8    7   22   21   24    18    5   24   18   \n",
      "19     S_20  California   11   21   20    6    5   24    14   23   19   10   \n",
      "25     S_26  California   24   11   16   11   13   14    10   15    7   15   \n",
      "26     S_27  California   24   19   13   24    8   12     6   21   10   10   \n",
      "27     S_28  California   10   15   24   21    9   22    10   19   13   18   \n",
      "34     S_35  California   10    7   24   15   12   24    12   17   10   14   \n",
      "36     S_37  California   24   16    9    6    6   22     6    8   24    6   \n",
      "37     S_38  California   21   10   13   11   11   14    24   24   24   21   \n",
      "48     S_49  California   22   22   10   11   17   13    18   11   12   20   \n",
      "59     S_60  California    6   21   22    8    6   17    21   12   14   15   \n",
      "61     S_62  California   16   21    6   22   22    9    21   21   22   17   \n",
      "67     S_68  California   23   15   16   14    8   12    10   21   10    7   \n",
      "72     S_73  California   20   24   24   18    7   22    12   21   20   18   \n",
      "80     S_81  California   22    9   20   12    6   20     8   16   15   14   \n",
      "85     S_86  California   15   23   24   18   21   17    23   13   12   11   \n",
      "89     S_90  California    8   23   21   14   15    6     5   14   23    8   \n",
      "93     S_94  California   19   18   14   21    5    7     8   21   11   21   \n",
      "94     S_95  California   10   22   13   20    5    5     9   15   23   23   \n",
      "99    S_100  California    5   23   17   24   15   21    19   10   12   20   \n",
      "\n",
      "    Nov  Dec  Total_Sales  \n",
      "5    11    5           73  \n",
      "9    17   16           68  \n",
      "11   18   22           53  \n",
      "16   12   17           50  \n",
      "19   21   22           58  \n",
      "25    5    8           62  \n",
      "26   12   20           80  \n",
      "27   24    6           70  \n",
      "34    5   18           56  \n",
      "36    5   11           55  \n",
      "37   16   18           55  \n",
      "48   12    9           65  \n",
      "59   10   15           57  \n",
      "61   16   21           65  \n",
      "67   24   17           68  \n",
      "72   21    6           86  \n",
      "80   24   10           63  \n",
      "85   24   13           80  \n",
      "89    5   21           66  \n",
      "93   15    7           72  \n",
      "94   24    7           65  \n",
      "99    5    9           69  \n"
     ]
    }
   ],
   "source": [
    "# California stores with any month > 20\n",
    "california_high = data[(data[\"city\"]==\"California\") &\n",
    "                       ((data[\"Jan\"]>20)|(data[\"Feb\"]>20)|(data[\"Mar\"]>20)|(data[\"Apr\"]>20))]\n",
    "print(\"\\n California Stores with > 20 Sales in any Month:\\n\", california_high)\n"
   ]
  },
  {
   "cell_type": "markdown",
   "id": "af3dd5a5-37fa-4f81-afe1-7ba00d66b88b",
   "metadata": {},
   "source": [
    "# PART 4 — AGGREGATION AND ANALYSIS (20 Marks)"
   ]
  },
  {
   "cell_type": "code",
   "execution_count": 21,
   "id": "67a639f7-be47-4091-98aa-9e23826971c9",
   "metadata": {},
   "outputs": [
    {
     "name": "stdout",
     "output_type": "stream",
     "text": [
      "\n",
      " City-wise Monthly Stats:\n",
      "                   Jan                Feb                Mar          \\\n",
      "                 mean max min       mean max min       mean max min   \n",
      "city                                                                  \n",
      "Arizona     15.500000  23   7  15.272727  24   6  14.545455  24   5   \n",
      "California  14.744186  24   5  15.534884  24   5  14.627907  24   5   \n",
      "Texas       13.457143  24   5  14.428571  24   5  14.485714  24   5   \n",
      "\n",
      "                  Apr          \n",
      "                 mean max min  \n",
      "city                           \n",
      "Arizona     14.954545  24   5  \n",
      "California  13.976744  24   5  \n",
      "Texas       15.057143  22   9  \n"
     ]
    }
   ],
   "source": [
    "# Mean, Max, Min per city per month\n",
    "city_stats = data.groupby(\"city\")[['Jan','Feb','Mar','Apr']].agg(['mean','max','min'])\n",
    "print(\"\\n City-wise Monthly Stats:\\n\", city_stats)"
   ]
  },
  {
   "cell_type": "code",
   "execution_count": 5,
   "id": "58b8c5b5-e8c4-40ec-8231-77f29f401fa6",
   "metadata": {},
   "outputs": [
    {
     "name": "stdout",
     "output_type": "stream",
     "text": [
      "\n",
      " Highest Avg March Sales City: California\n"
     ]
    }
   ],
   "source": [
    "# City with highest avg March sales\n",
    "highest_march_city = data.groupby(\"city\")[\"Mar\"].mean().idxmax()\n",
    "print(\"\\n Highest Avg March Sales City:\", highest_march_city)\n"
   ]
  },
  {
   "cell_type": "code",
   "execution_count": 6,
   "id": "31791220-9b8a-4ca3-9005-10c0879fc484",
   "metadata": {},
   "outputs": [
    {
     "name": "stdout",
     "output_type": "stream",
     "text": [
      "\n",
      " Overall Average Sales per City:\n",
      " city\n",
      "Arizona       14.965909\n",
      "California    14.577519\n",
      "Texas         14.140476\n",
      "dtype: float64\n"
     ]
    }
   ],
   "source": [
    "# Overall avg sales per city (all months)\n",
    "months_all = ['Jan','Feb','Mar','Apr','May','Jun','July','Aug','Sep','Oct','Nov','Dec']\n",
    "overall_city_avg = data.groupby(\"city\")[months_all].mean().mean(axis=1)\n",
    "print(\"\\n Overall Average Sales per City:\\n\", overall_city_avg)\n"
   ]
  },
  {
   "cell_type": "code",
   "execution_count": 7,
   "id": "ce52b878-9206-45f7-bcc8-81183842c398",
   "metadata": {},
   "outputs": [
    {
     "name": "stdout",
     "output_type": "stream",
     "text": [
      "\n",
      " Month with Highest Overall Sales: Aug\n"
     ]
    }
   ],
   "source": [
    "# Month with highest overall sales\n",
    "highest_month = data[months_all].sum().idxmax()\n",
    "print(\"\\n Month with Highest Overall Sales:\", highest_month)"
   ]
  },
  {
   "cell_type": "code",
   "execution_count": 8,
   "id": "77a8a090-20a8-41b3-96b5-8b5b68f4d55a",
   "metadata": {},
   "outputs": [
    {
     "name": "stdout",
     "output_type": "stream",
     "text": [
      "\n",
      " Each City's Best Month:\n",
      " city\n",
      "Arizona       Nov\n",
      "California    Aug\n",
      "Texas         Aug\n",
      "dtype: object\n"
     ]
    }
   ],
   "source": [
    "# Month with max total sales per city\n",
    "max_month_city = data.groupby(\"city\")[months_all].sum().idxmax(axis=1)\n",
    "print(\"\\n Each City's Best Month:\\n\", max_month_city)\n"
   ]
  },
  {
   "cell_type": "code",
   "execution_count": 9,
   "id": "c362939f-2bd7-4a7f-9b9f-f6bed0783712",
   "metadata": {},
   "outputs": [
    {
     "name": "stdout",
     "output_type": "stream",
     "text": [
      "\n",
      " Top 10 Stores by Average Sales:\n"
     ]
    },
    {
     "data": {
      "text/html": [
       "<div>\n",
       "<style scoped>\n",
       "    .dataframe tbody tr th:only-of-type {\n",
       "        vertical-align: middle;\n",
       "    }\n",
       "\n",
       "    .dataframe tbody tr th {\n",
       "        vertical-align: top;\n",
       "    }\n",
       "\n",
       "    .dataframe thead th {\n",
       "        text-align: right;\n",
       "    }\n",
       "</style>\n",
       "<table border=\"1\" class=\"dataframe\">\n",
       "  <thead>\n",
       "    <tr style=\"text-align: right;\">\n",
       "      <th></th>\n",
       "      <th>store_id</th>\n",
       "      <th>city</th>\n",
       "      <th>Jan</th>\n",
       "      <th>Feb</th>\n",
       "      <th>Mar</th>\n",
       "      <th>Apr</th>\n",
       "      <th>May</th>\n",
       "      <th>Jun</th>\n",
       "      <th>July</th>\n",
       "      <th>Aug</th>\n",
       "      <th>Sep</th>\n",
       "      <th>Oct</th>\n",
       "      <th>Nov</th>\n",
       "      <th>Dec</th>\n",
       "      <th>Average_Sales</th>\n",
       "    </tr>\n",
       "  </thead>\n",
       "  <tbody>\n",
       "    <tr>\n",
       "      <th>85</th>\n",
       "      <td>S_86</td>\n",
       "      <td>California</td>\n",
       "      <td>15</td>\n",
       "      <td>23</td>\n",
       "      <td>24</td>\n",
       "      <td>18</td>\n",
       "      <td>21</td>\n",
       "      <td>17</td>\n",
       "      <td>23</td>\n",
       "      <td>13</td>\n",
       "      <td>12</td>\n",
       "      <td>11</td>\n",
       "      <td>24</td>\n",
       "      <td>13</td>\n",
       "      <td>17.833333</td>\n",
       "    </tr>\n",
       "    <tr>\n",
       "      <th>61</th>\n",
       "      <td>S_62</td>\n",
       "      <td>California</td>\n",
       "      <td>16</td>\n",
       "      <td>21</td>\n",
       "      <td>6</td>\n",
       "      <td>22</td>\n",
       "      <td>22</td>\n",
       "      <td>9</td>\n",
       "      <td>21</td>\n",
       "      <td>21</td>\n",
       "      <td>22</td>\n",
       "      <td>17</td>\n",
       "      <td>16</td>\n",
       "      <td>21</td>\n",
       "      <td>17.833333</td>\n",
       "    </tr>\n",
       "    <tr>\n",
       "      <th>72</th>\n",
       "      <td>S_73</td>\n",
       "      <td>California</td>\n",
       "      <td>20</td>\n",
       "      <td>24</td>\n",
       "      <td>24</td>\n",
       "      <td>18</td>\n",
       "      <td>7</td>\n",
       "      <td>22</td>\n",
       "      <td>12</td>\n",
       "      <td>21</td>\n",
       "      <td>20</td>\n",
       "      <td>18</td>\n",
       "      <td>21</td>\n",
       "      <td>6</td>\n",
       "      <td>17.750000</td>\n",
       "    </tr>\n",
       "    <tr>\n",
       "      <th>77</th>\n",
       "      <td>S_78</td>\n",
       "      <td>Arizona</td>\n",
       "      <td>19</td>\n",
       "      <td>23</td>\n",
       "      <td>19</td>\n",
       "      <td>24</td>\n",
       "      <td>13</td>\n",
       "      <td>12</td>\n",
       "      <td>24</td>\n",
       "      <td>17</td>\n",
       "      <td>22</td>\n",
       "      <td>16</td>\n",
       "      <td>17</td>\n",
       "      <td>5</td>\n",
       "      <td>17.583333</td>\n",
       "    </tr>\n",
       "    <tr>\n",
       "      <th>50</th>\n",
       "      <td>S_51</td>\n",
       "      <td>Arizona</td>\n",
       "      <td>17</td>\n",
       "      <td>23</td>\n",
       "      <td>14</td>\n",
       "      <td>19</td>\n",
       "      <td>23</td>\n",
       "      <td>12</td>\n",
       "      <td>20</td>\n",
       "      <td>21</td>\n",
       "      <td>13</td>\n",
       "      <td>18</td>\n",
       "      <td>6</td>\n",
       "      <td>24</td>\n",
       "      <td>17.500000</td>\n",
       "    </tr>\n",
       "    <tr>\n",
       "      <th>37</th>\n",
       "      <td>S_38</td>\n",
       "      <td>California</td>\n",
       "      <td>21</td>\n",
       "      <td>10</td>\n",
       "      <td>13</td>\n",
       "      <td>11</td>\n",
       "      <td>11</td>\n",
       "      <td>14</td>\n",
       "      <td>24</td>\n",
       "      <td>24</td>\n",
       "      <td>24</td>\n",
       "      <td>21</td>\n",
       "      <td>16</td>\n",
       "      <td>18</td>\n",
       "      <td>17.250000</td>\n",
       "    </tr>\n",
       "    <tr>\n",
       "      <th>69</th>\n",
       "      <td>S_70</td>\n",
       "      <td>Texas</td>\n",
       "      <td>24</td>\n",
       "      <td>16</td>\n",
       "      <td>24</td>\n",
       "      <td>20</td>\n",
       "      <td>14</td>\n",
       "      <td>21</td>\n",
       "      <td>15</td>\n",
       "      <td>13</td>\n",
       "      <td>18</td>\n",
       "      <td>22</td>\n",
       "      <td>10</td>\n",
       "      <td>9</td>\n",
       "      <td>17.166667</td>\n",
       "    </tr>\n",
       "    <tr>\n",
       "      <th>39</th>\n",
       "      <td>S_40</td>\n",
       "      <td>Texas</td>\n",
       "      <td>22</td>\n",
       "      <td>21</td>\n",
       "      <td>13</td>\n",
       "      <td>13</td>\n",
       "      <td>14</td>\n",
       "      <td>15</td>\n",
       "      <td>6</td>\n",
       "      <td>24</td>\n",
       "      <td>16</td>\n",
       "      <td>23</td>\n",
       "      <td>13</td>\n",
       "      <td>24</td>\n",
       "      <td>17.000000</td>\n",
       "    </tr>\n",
       "    <tr>\n",
       "      <th>92</th>\n",
       "      <td>S_93</td>\n",
       "      <td>California</td>\n",
       "      <td>20</td>\n",
       "      <td>13</td>\n",
       "      <td>15</td>\n",
       "      <td>12</td>\n",
       "      <td>15</td>\n",
       "      <td>19</td>\n",
       "      <td>21</td>\n",
       "      <td>22</td>\n",
       "      <td>10</td>\n",
       "      <td>21</td>\n",
       "      <td>23</td>\n",
       "      <td>13</td>\n",
       "      <td>17.000000</td>\n",
       "    </tr>\n",
       "    <tr>\n",
       "      <th>86</th>\n",
       "      <td>S_87</td>\n",
       "      <td>Texas</td>\n",
       "      <td>19</td>\n",
       "      <td>20</td>\n",
       "      <td>10</td>\n",
       "      <td>13</td>\n",
       "      <td>12</td>\n",
       "      <td>5</td>\n",
       "      <td>20</td>\n",
       "      <td>23</td>\n",
       "      <td>21</td>\n",
       "      <td>14</td>\n",
       "      <td>24</td>\n",
       "      <td>22</td>\n",
       "      <td>16.916667</td>\n",
       "    </tr>\n",
       "  </tbody>\n",
       "</table>\n",
       "</div>"
      ],
      "text/plain": [
       "   store_id        city  Jan  Feb  Mar  Apr  May  Jun  July  Aug  Sep  Oct  \\\n",
       "85     S_86  California   15   23   24   18   21   17    23   13   12   11   \n",
       "61     S_62  California   16   21    6   22   22    9    21   21   22   17   \n",
       "72     S_73  California   20   24   24   18    7   22    12   21   20   18   \n",
       "77     S_78     Arizona   19   23   19   24   13   12    24   17   22   16   \n",
       "50     S_51     Arizona   17   23   14   19   23   12    20   21   13   18   \n",
       "37     S_38  California   21   10   13   11   11   14    24   24   24   21   \n",
       "69     S_70       Texas   24   16   24   20   14   21    15   13   18   22   \n",
       "39     S_40       Texas   22   21   13   13   14   15     6   24   16   23   \n",
       "92     S_93  California   20   13   15   12   15   19    21   22   10   21   \n",
       "86     S_87       Texas   19   20   10   13   12    5    20   23   21   14   \n",
       "\n",
       "    Nov  Dec  Average_Sales  \n",
       "85   24   13      17.833333  \n",
       "61   16   21      17.833333  \n",
       "72   21    6      17.750000  \n",
       "77   17    5      17.583333  \n",
       "50    6   24      17.500000  \n",
       "37   16   18      17.250000  \n",
       "69   10    9      17.166667  \n",
       "39   13   24      17.000000  \n",
       "92   23   13      17.000000  \n",
       "86   24   22      16.916667  "
      ]
     },
     "metadata": {},
     "output_type": "display_data"
    }
   ],
   "source": [
    "# Add Average_Sales column and sort\n",
    "data[\"Average_Sales\"] = data[months_all].mean(axis=1)\n",
    "sorted_avg = data.sort_values(by=\"Average_Sales\", ascending=False)\n",
    "print(\"\\n Top 10 Stores by Average Sales:\")\n",
    "display(sorted_avg.head(10))"
   ]
  },
  {
   "cell_type": "markdown",
   "id": "73ae2a0a-0f3e-4365-b13f-632d89e0b62a",
   "metadata": {},
   "source": [
    "# PART 5 — VISUALIZATION TASKS (15 Marks)"
   ]
  },
  {
   "cell_type": "code",
   "execution_count": 10,
   "id": "8bf63d71-9239-4615-b03e-153385966a91",
   "metadata": {},
   "outputs": [
    {
     "data": {
      "text/plain": [
       "<Axes: title={'center': 'Total Sales by City'}, xlabel='city'>"
      ]
     },
     "execution_count": 10,
     "metadata": {},
     "output_type": "execute_result"
    },
    {
     "data": {
      "image/png": "[encoded data removed]",
      "text/plain": [
       "<Figure size 640x480 with 1 Axes>"
      ]
     },
     "metadata": {},
     "output_type": "display_data"
    }
   ],
   "source": [
    "# Bar chart – Total Sales by City\n",
    "data.groupby(\"city\")[months_all].sum().sum(axis=1).plot(kind=\"bar\", title=\"Total Sales by City\", color=\"skyblue\")"
   ]
  },
  {
   "cell_type": "code",
   "execution_count": 11,
   "id": "ef7c7380-0944-4fcc-adfc-d8981cc18da7",
   "metadata": {},
   "outputs": [
    {
     "data": {
      "text/plain": [
       "<Axes: title={'center': 'Average Monthly Sales (All Stores)'}>"
      ]
     },
     "execution_count": 11,
     "metadata": {},
     "output_type": "execute_result"
    },
    {
     "data": {
      "image/png": "[encoded data removed]",
      "text/plain": [
       "<Figure size 640x480 with 1 Axes>"
      ]
     },
     "metadata": {},
     "output_type": "display_data"
    }
   ],
   "source": [
    "# Line chart – Avg Monthly Sales (All Stores)\n",
    "data[months_all].mean().plot(kind=\"line\", marker=\"o\", title=\"Average Monthly Sales (All Stores)\", color=\"orange\")"
   ]
  },
  {
   "cell_type": "code",
   "execution_count": 12,
   "id": "c3df7c51-5b45-4675-8fd6-040baec5013f",
   "metadata": {},
   "outputs": [
    {
     "data": {
      "text/plain": [
       "<Axes: title={'center': 'City Share of Total Sales'}>"
      ]
     },
     "execution_count": 12,
     "metadata": {},
     "output_type": "execute_result"
    },
    {
     "data": {
      "image/png": "[encoded data removed]",
      "text/plain": [
       "<Figure size 640x480 with 1 Axes>"
      ]
     },
     "metadata": {},
     "output_type": "display_data"
    }
   ],
   "source": [
    "# Pie chart – City Share in Total Sales\n",
    "data.groupby(\"city\")[months_all].sum().sum(axis=1).plot(kind=\"pie\", autopct=\"%1.1f%%\", title=\"City Share of Total Sales\")\n"
   ]
  },
  {
   "cell_type": "code",
   "execution_count": 6,
   "id": "e692625f-23cb-4d39-a130-50f852e3f3e2",
   "metadata": {},
   "outputs": [
    {
     "data": {
      "text/plain": [
       "<Axes: title={'center': 'Top 10 Stores by Total Sales'}, ylabel='store_id'>"
      ]
     },
     "execution_count": 6,
     "metadata": {},
     "output_type": "execute_result"
    },
    {
     "data": {
      "image/png": "[encoded data removed]",
      "text/plain": [
       "<Figure size 640x480 with 1 Axes>"
      ]
     },
     "metadata": {},
     "output_type": "display_data"
    }
   ],
   "source": [
    "# Horizontal bar – Top 10 Stores by Total Sales\n",
    "data.nlargest(10, \"Total_Sales\").set_index(\"store_id\")[\"Total_Sales\"].plot(kind=\"barh\", title=\"Top 10 Stores by Total Sales\")"
   ]
  },
  {
   "cell_type": "code",
   "execution_count": 18,
   "id": "4e81a870-2b69-49d3-994b-d38bff1cf33e",
   "metadata": {},
   "outputs": [
    {
     "data": {
      "text/plain": [
       "<Axes: title={'center': 'Sales'}, xlabel='city'>"
      ]
     },
     "execution_count": 18,
     "metadata": {},
     "output_type": "execute_result"
    },
    {
     "data": {
      "image/png": "[encoded data removed]",
      "text/plain": [
       "<Figure size 640x480 with 1 Axes>"
      ]
     },
     "metadata": {},
     "output_type": "display_data"
    }
   ],
   "source": [
    "# Boxplot – Monthly Sales Distribution by City\n",
    "melted = data.melt(id_vars=\"city\", value_vars=months_all, var_name=\"Month\", value_name=\"Sales\")\n",
    "melted.boxplot(by=\"city\", column=\"Sales\", grid=False)\n"
   ]
  },
  {
   "cell_type": "code",
   "execution_count": null,
   "id": "cc5c1f12-7a50-49e1-aa90-8493a0b41bde",
   "metadata": {},
   "outputs": [],
   "source": []
  }
 ],
 "metadata": {
  "kernelspec": {
   "display_name": "Python 3 (ipykernel)",
   "language": "python",
   "name": "python3"
  },
  "language_info": {
   "codemirror_mode": {
    "name": "ipython",
    "version": 3
   },
   "file_extension": ".py",
   "mimetype": "text/x-python",
   "name": "python",
   "nbconvert_exporter": "python",
   "pygments_lexer": "ipython3",
   "version": "3.13.5"
  }
 },
 "nbformat": 4,
 "nbformat_minor": 5
}
